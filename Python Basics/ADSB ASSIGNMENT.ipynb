{
 "cells": [
  {
   "cell_type": "markdown",
   "metadata": {},
   "source": [
    " ASDP Python lab assignment // Student: Eslam Hussein Mohamed Abdelghany // Reg:16101611 // Eng:Mahmoud Shaban "
   ]
  },
  {
   "cell_type": "markdown",
   "metadata": {},
   "source": [
    "# Q1"
   ]
  },
  {
   "cell_type": "code",
   "execution_count": 42,
   "metadata": {},
   "outputs": [],
   "source": [
    "varA='ADSP'"
   ]
  },
  {
   "cell_type": "code",
   "execution_count": 43,
   "metadata": {},
   "outputs": [],
   "source": [
    "varB='lab_assignment'"
   ]
  },
  {
   "cell_type": "code",
   "execution_count": 44,
   "metadata": {},
   "outputs": [
    {
     "name": "stdout",
     "output_type": "stream",
     "text": [
      "string involved\n",
      "smaller\n"
     ]
    }
   ],
   "source": [
    "if type(varA) is str or type(varB) is str:\n",
    "    print(\"string involved\")\n",
    "if varA > varB:\n",
    "    print(\"bigger\")\n",
    "elif varA==varB:\n",
    "    print(\"Equal\")\n",
    "else:\n",
    "    print(\"smaller\")"
   ]
  },
  {
   "cell_type": "markdown",
   "metadata": {},
   "source": [
    "# Q2"
   ]
  },
  {
   "cell_type": "code",
   "execution_count": 45,
   "metadata": {},
   "outputs": [
    {
     "name": "stdout",
     "output_type": "stream",
     "text": [
      "Hello\n",
      "10\n",
      "8\n",
      "6\n",
      "4\n",
      "2\n"
     ]
    }
   ],
   "source": [
    "print(\"Hello\")\n",
    "i=10\n",
    "while(i>0):\n",
    "    print(i)\n",
    "    i=i-2"
   ]
  },
  {
   "cell_type": "markdown",
   "metadata": {},
   "source": [
    "# Q3"
   ]
  },
  {
   "cell_type": "code",
   "execution_count": null,
   "metadata": {},
   "outputs": [],
   "source": [
    "x=input(\"Enter end \")\n",
    "mysum=0\n",
    "i=0\n",
    "while(i<=int(x)):\n",
    "    mysum+=i\n",
    "    i=i+1\n",
    "print(mysum)"
   ]
  },
  {
   "cell_type": "markdown",
   "metadata": {},
   "source": [
    "# Q4\n"
   ]
  },
  {
   "cell_type": "code",
   "execution_count": null,
   "metadata": {},
   "outputs": [],
   "source": [
    "print(\"Hello\")\n",
    "for i in range(10,0,-2):\n",
    "    print(i)"
   ]
  },
  {
   "cell_type": "markdown",
   "metadata": {},
   "source": [
    "# Q4.1"
   ]
  },
  {
   "cell_type": "code",
   "execution_count": null,
   "metadata": {},
   "outputs": [],
   "source": [
    "x=input(\"Enter end \")\n",
    "mysum=0\n",
    "for i in range(int(x)+1):\n",
    "    mysum+=i\n",
    "    i=i+1\n",
    "print(mysum)"
   ]
  },
  {
   "cell_type": "markdown",
   "metadata": {},
   "source": [
    "# Q7"
   ]
  },
  {
   "cell_type": "code",
   "execution_count": null,
   "metadata": {},
   "outputs": [],
   "source": [
    "st='azcbobobegghakl'\n",
    "count = 0\n",
    "for i in range(len(st)):\n",
    "    if st[i:i+3] == 'bob':\n",
    "        count += 1\n",
    "\n",
    "print(count)"
   ]
  },
  {
   "cell_type": "markdown",
   "metadata": {},
   "source": [
    "# Q8"
   ]
  },
  {
   "cell_type": "code",
   "execution_count": null,
   "metadata": {},
   "outputs": [],
   "source": [
    "print(\"Please think of a number between 0 and 100!\")\n",
    "low = 0\n",
    "high = 100\n",
    "i = 0\n",
    "while i in range(0,100):\n",
    "\tguess = int((low + high)/2)\n",
    "\tprint(\"Is your secret number\" + \" \" + str(guess) + \"?\")\n",
    "\tresponse = str(input(\"Enter 'h' to indicate the guess is too high. Enter 'l' to indicate the guess is too low. Enter 'c' to indicate I guess correctly.\"))\n",
    "\tif response == 'h':\n",
    "\t\t#0,100 => 5\n",
    "\t\thigh = guess\n",
    "\t\tguess = int((low+high)/2)\n",
    "\t\t\n",
    "\telif response == 'l':\n",
    "\t\t#0,100 => 90\n",
    "\t\tlow = guess\n",
    "\t\tguess = int((low+high)/2)\n",
    "\n",
    "\telif response == 'c':\n",
    "\t\t#print(\"You guessed it correctly!\")\n",
    "\t\tbreak\n",
    "\n",
    "\telse:\n",
    "\t\tprint(\"Enter only c or h or l\")\n",
    "print(\"Game over. Your secret number was:\" + \" \" + str(guess))"
   ]
  },
  {
   "cell_type": "markdown",
   "metadata": {},
   "source": [
    "# Q11"
   ]
  },
  {
   "cell_type": "code",
   "execution_count": null,
   "metadata": {},
   "outputs": [],
   "source": [
    "def gcdIter(a, b):\n",
    "    if a == b:\n",
    "        return a\n",
    "    elif a > b :\n",
    "        i = b\n",
    "        while i <= a and i >= 2:\n",
    "            if a % i == 0 and b % i == 0:\n",
    "                return i\n",
    "                break\n",
    "            else:\n",
    "                i -= 1\n",
    "        return 1\n",
    "    else:\n",
    "        i = a\n",
    "        while i <= b and i >= 2:\n",
    "            if b % i == 0 and a % i == 0:\n",
    "                return i\n",
    "            else:\n",
    "                i -= 1\n",
    "        return 1\n",
    "print(gcdIter(9,12))"
   ]
  },
  {
   "cell_type": "markdown",
   "metadata": {},
   "source": [
    "# Q12"
   ]
  },
  {
   "cell_type": "code",
   "execution_count": null,
   "metadata": {},
   "outputs": [],
   "source": [
    "import math \n",
    "def ploysum(n,s):\n",
    "    a=0.25*n*s*s/(math.tan(math.pi/n))\n",
    "    p=n*s\n",
    "    return round (a+p*p,4)\n",
    "print(ploysum(4.45,7.78))"
   ]
  },
  {
   "cell_type": "markdown",
   "metadata": {},
   "source": [
    "# Q13"
   ]
  },
  {
   "cell_type": "code",
   "execution_count": null,
   "metadata": {},
   "outputs": [],
   "source": [
    "def rep_tup(x):  #A function that finds the repeated items of a tuple\n",
    "    y=[]\n",
    "    count=0\n",
    "    for i in range(len(x)):\n",
    "        if x[i] not in y:\n",
    "             y.append(x[i])\n",
    "        else:\n",
    "            y.append(x[i])\n",
    "            count+=1\n",
    "    return count\n",
    "print(rep_tup((2, 4, 5, 6, 2, 3, 4, 4, 7)))"
   ]
  },
  {
   "cell_type": "code",
   "execution_count": null,
   "metadata": {},
   "outputs": [],
   "source": [
    "def sec_largest(x):  #A function that find the second largest number in a list.\n",
    "    x.sort()\n",
    "    y=[]\n",
    "    for i in range(len(x)):\n",
    "        if x[i] not in y:\n",
    "            y.append(x[i])\n",
    "            y.sort()\n",
    "    if len(y)==1:\n",
    "        return None\n",
    "    elif len(y)==2:\n",
    "        return y[-1]\n",
    "    elif len(y)>2:\n",
    "        return y[-2] \n",
    "print(sec_largest([8, 3, 9, 9, 0, 3, 2, -4, -4]))     "
   ]
  },
  {
   "cell_type": "code",
   "execution_count": null,
   "metadata": {},
   "outputs": [],
   "source": [
    "def duplicated(x):    #C) A function that removes duplicates from a list.\n",
    "    y=[]\n",
    "    for i in range(len(x)):\n",
    "        if x[i] not in y:\n",
    "            y.append(x[i])\n",
    "    return y\n",
    "v=duplicated([1,2,3,2,1,7,9,0,3,3])\n",
    "print(v)"
   ]
  },
  {
   "cell_type": "code",
   "execution_count": null,
   "metadata": {},
   "outputs": [],
   "source": [
    "def counting_range(x,a,b):     #A function that counts the number of elements in a list within a specified range\n",
    "    y=[]\n",
    "    for i in x:\n",
    "        if i>=a and i<=b:\n",
    "            y.append(i)\n",
    "    return len(y)   \n",
    "print(counting_range([10,20,30,40,40,40,70,80,99],40,100))"
   ]
  },
  {
   "cell_type": "markdown",
   "metadata": {},
   "source": [
    "# Q14"
   ]
  },
  {
   "cell_type": "code",
   "execution_count": null,
   "metadata": {},
   "outputs": [],
   "source": [
    "import numpy as np\n",
    "arr=np.array([1,2,3])\n",
    "print(arr)"
   ]
  },
  {
   "cell_type": "code",
   "execution_count": null,
   "metadata": {},
   "outputs": [],
   "source": [
    "import numpy as np\n",
    "arr=np.array([1,3,5,7,11,13,17,19,23,29]).reshape(2)\n",
    "print(arr)"
   ]
  },
  {
   "cell_type": "code",
   "execution_count": null,
   "metadata": {},
   "outputs": [],
   "source": [
    "import numpy as np\n",
    "arr=np.array([1,2,3,4,5,6,7,8,9,10,11,12]).reshape(4,3)\n",
    "print(\"Sum of each column:\")\n",
    "print(np.sum(arr, axis=0))\n",
    "print(\"Sum of each row:\")\n",
    "print(np.sum(arr, axis=1))"
   ]
  },
  {
   "cell_type": "code",
   "execution_count": null,
   "metadata": {},
   "outputs": [],
   "source": []
  }
 ],
 "metadata": {
  "kernelspec": {
   "display_name": "Python 3",
   "language": "python",
   "name": "python3"
  },
  "language_info": {
   "codemirror_mode": {
    "name": "ipython",
    "version": 3
   },
   "file_extension": ".py",
   "mimetype": "text/x-python",
   "name": "python",
   "nbconvert_exporter": "python",
   "pygments_lexer": "ipython3",
   "version": "3.8.5"
  }
 },
 "nbformat": 4,
 "nbformat_minor": 4
}
